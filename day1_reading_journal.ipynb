{
 "cells": [
  {
   "cell_type": "markdown",
   "metadata": {},
   "source": [
    "# Day 1 Reading Journal\n",
    "\n",
    "Hi everyone.  These are the exercises for the first set of readings from ThinkPython.  While this journal consists of several required exercises, it is meant to encourage active reading more generally.  You should use this journal to take detailed notes, catalog questions, and explore the content from ThinkPython deeply.\n",
    "\n",
    "For more information on using the Jupyter notebook, check out the documentation [here](https://www.datacamp.com/community/tutorials/tutorial-jupyter-notebook##UseJupyter).\n",
    "\n",
    "Additionally, in order to write text in this document, you will be making use of Markdown cells. A handy cheatsheet for Markdown is available [here](https://github.com/adam-p/markdown-here/wiki/Markdown-Cheatsheet)."
   ]
  },
  {
   "cell_type": "markdown",
   "metadata": {},
   "source": [
    "## Chapter 1\n",
    "\n",
    "Note: the exercise numbers below match up with the reading for ease of cross referencing."
   ]
  },
  {
   "cell_type": "raw",
   "metadata": {},
   "source": []
  },
  {
   "cell_type": "markdown",
   "metadata": {},
   "source": [
    "### Exercise 1.4\n",
    "\n",
    "Start the Python interpreter and use it as a simple calculator. Python’s syntax for math operations is almost the same as standard mathematical notation. For example, the symbols +, - and / denote addition, subtraction and division, as you would expect. The symbol for multiplication is *\n",
    "\n",
    "* How many seconds are there in 42 minutes 42 seconds?\n",
    "* How many miles are there in 10 kilometers? Hint: there are 1.61 kilometers in a mile.\n",
    "* If you run a 10 kilometer race in 42 minutes 42 seconds, what is your average pace (time per mile in minutes and seconds)? What is your average speed in miles per hour?\n",
    "\n",
    "Please use the following markdown cell to provide your answers."
   ]
  },
  {
   "cell_type": "code",
   "execution_count": 2,
   "metadata": {
    "collapsed": false
   },
   "outputs": [
    {
     "name": "stdout",
     "output_type": "stream",
     "text": [
      "There are 2562 seconds in 42 minutes 42 seconds\n"
     ]
    }
   ],
   "source": [
    "print(\"There are %i seconds in 42 minutes 42 seconds\" % (42*60+42))"
   ]
  },
  {
   "cell_type": "markdown",
   "metadata": {},
   "source": []
  },
  {
   "cell_type": "markdown",
   "metadata": {},
   "source": [
    "## Chapter 2"
   ]
  },
  {
   "cell_type": "markdown",
   "metadata": {},
   "source": [
    "### Exercise\n",
    "\n",
    "Assume that we execute the following assignment statements:\n",
    "\n",
    "```\n",
    "width = 17\n",
    "height = 12.0\n",
    "delimiter = '.'\n",
    "```\n",
    "\n",
    "For each of the following expressions, write the value of the expression and the type (of the value of the expression).\n",
    "\n",
    "Example: `width * 2` <br/>\n",
    "Answer: 34, integer\n",
    "\n",
    "1. `width/2`\n",
    "2. `width/2.0`\n",
    "3. `height/3`\n",
    "4. `1 + 2 * 5`\n",
    "5. `delimiter * 5`\n",
    "\n",
    "Please use the following markdown cell to provide your answer."
   ]
  },
  {
   "cell_type": "code",
   "execution_count": 5,
   "metadata": {
    "collapsed": false
   },
   "outputs": [
    {
     "name": "stdout",
     "output_type": "stream",
     "text": [
      "1. width/2 = 8 and is of type int\n",
      "2. width/2.0 = 8.500000 and is of type float\n",
      "3. height/3 = 4 and is of type float\n",
      "4. 1+2*5 = 11 and is of type int\n",
      "5. delimter*5 = ..... and is of type str\n"
     ]
    }
   ],
   "source": [
    "width = 17\n",
    "height = 12.0\n",
    "delimiter = '.'\n",
    "\n",
    "print(\"1. width/2 = %i and is of type %s\" % (width/2, type(width/2).__name__))\n",
    "print(\"2. width/2.0 = %f and is of type %s\" % (width/2.0, type(width/2.0).__name__))\n",
    "print(\"3. height/3 = %i and is of type %s\" % (height/3, type(height/3).__name__))\n",
    "print(\"4. 1+2*5 = %i and is of type %s\" % (1+2*5, type(1+2*5).__name__))\n",
    "print(\"5. delimter*5 = %s and is of type %s\" % (delimiter*5, type(delimiter*5).__name__))"
   ]
  },
  {
   "cell_type": "markdown",
   "metadata": {},
   "source": []
  },
  {
   "cell_type": "markdown",
   "metadata": {},
   "source": [
    "### Exercise 2.2\n",
    "\n",
    "Practice using the Python interpreter as a calculator.  For each of these provide Python code that computes each answer."
   ]
  },
  {
   "cell_type": "markdown",
   "metadata": {},
   "source": [
    "The volume of a sphere with radius r is $4/3 \\pi  r^3$. What is the volume of a sphere with radius 5? <br />\n",
    "Hint: 392.7 is wrong! You can approximate pi with 3.14 or import it through the Python math library."
   ]
  },
  {
   "cell_type": "code",
   "execution_count": 15,
   "metadata": {
    "collapsed": false
   },
   "outputs": [
    {
     "data": {
      "text/plain": [
       "523.5987755982989"
      ]
     },
     "execution_count": 15,
     "metadata": {},
     "output_type": "execute_result"
    }
   ],
   "source": [
    "from math import pi\n",
    "(4/3)*(pi)*(5**3)"
   ]
  },
  {
   "cell_type": "markdown",
   "metadata": {},
   "source": [
    "Suppose the cover price of a book is \\$24.95, but bookstores get a 40% discount. Shipping costs \\$3 for the first copy and 75 cents for each additional copy. What is the total wholesale cost for 60 copies?"
   ]
  },
  {
   "cell_type": "code",
   "execution_count": 22,
   "metadata": {
    "collapsed": false
   },
   "outputs": [
    {
     "name": "stdout",
     "output_type": "stream",
     "text": [
      "It costs the bookstore $945.45 for 60 books\n"
     ]
    }
   ],
   "source": [
    "def book_cost(num_books):\n",
    "    return 24.95*0.6*num_books + 0.75*(num_books-1) + 3\n",
    "print 'It costs the bookstore $%.2f for 60 books' % book_cost(60)"
   ]
  },
  {
   "cell_type": "markdown",
   "metadata": {},
   "source": [
    "If I leave my house at 6:52 am and run 1 mile at an easy pace (8:15 per mile), then 3 miles at tempo (7:12 per mile) and 1 mile at easy pace again, what time do I get home for breakfast? "
   ]
  },
  {
   "cell_type": "code",
   "execution_count": 32,
   "metadata": {
    "collapsed": false
   },
   "outputs": [
    {
     "name": "stdout",
     "output_type": "stream",
     "text": [
      "You get home at 7:27am\n"
     ]
    }
   ],
   "source": [
    "starttime = (6*60+52)*60\n",
    "runtime = 8*60+15*2 + 3*7+12\n",
    "endtime = starttime + runtime\n",
    "print('You get home at %i:%iam' % (endtime/3600, endtime%36))"
   ]
  },
  {
   "cell_type": "markdown",
   "metadata": {},
   "source": []
  },
  {
   "cell_type": "markdown",
   "metadata": {},
   "source": [
    "## Chapter 3"
   ]
  },
  {
   "cell_type": "markdown",
   "metadata": {},
   "source": [
    "### Exercise 3.1\n",
    "\n",
    "Write a function named `right_justify` that takes a string named s as a parameter and prints the string with enough leading spaces so that the last letter of the string is in column 70 of the display.\n",
    "\n",
    "```\n",
    ">>> right_justify('monty')\n",
    "                                                                 monty\n",
    "```\n",
    "Hint: Use string concatenation and repetition. Also, Python provides a built-in function called `len` that returns the length of a string, so the value of `len('monty')` is 5."
   ]
  },
  {
   "cell_type": "code",
   "execution_count": 33,
   "metadata": {
    "collapsed": false
   },
   "outputs": [
    {
     "name": "stdout",
     "output_type": "stream",
     "text": [
      "                                                                 hello\n"
     ]
    }
   ],
   "source": [
    "def right_justify(s):\n",
    "    spacecount = 70-len(s)\n",
    "    print '%s%s' % (spacecount*' ', s)\n",
    "right_justify('hello')"
   ]
  },
  {
   "cell_type": "markdown",
   "metadata": {},
   "source": [
    "### Exercise 3.3\n",
    "\n",
    "Note: This exercise should be done using only the statements and other features we have learned so far.\n",
    "\n",
    "1\\. Write a function that draws a grid like the following:\n",
    "\n",
    "```\n",
    "+ - - - - + - - - - +\n",
    "|         |         |\n",
    "|         |         |\n",
    "|         |         |\n",
    "|         |         |\n",
    "+ - - - - + - - - - +\n",
    "|         |         |\n",
    "|         |         |\n",
    "|         |         |\n",
    "|         |         |\n",
    "+ - - - - + - - - - +\n",
    "```\n",
    "Note: There are four empty spaces between the vertical bars.\n",
    "\n",
    "To print more than one value on a line, you can print a comma-separated sequence of values:\n",
    "\n",
    "```\n",
    "print('+', '-')\n",
    "```\n",
    "\n",
    "By default, `print` advances to the next line, but you can override that behavior and put a space at the end, like this:\n",
    "\n",
    "```\n",
    "print('+', end=' ')\n",
    "print('-')\n",
    "```\n",
    "\n",
    "The output of these statements is '+ -'.\n",
    "\n",
    "A `print` statement with no argument ends the current line and goes to the next line."
   ]
  },
  {
   "cell_type": "code",
   "execution_count": 34,
   "metadata": {
    "collapsed": false
   },
   "outputs": [
    {
     "name": "stdout",
     "output_type": "stream",
     "text": [
      "+ - - - - + - - - - +\n",
      "|         |         |\n",
      "|         |         |\n",
      "|         |         |\n",
      "|         |         |\n",
      "+ - - - - + - - - - +\n",
      "|         |         |\n",
      "|         |         |\n",
      "|         |         |\n",
      "|         |         |\n",
      "+ - - - - + - - - - +\n"
     ]
    }
   ],
   "source": [
    "print('+ - - - - + - - - - +')\n",
    "print('|         |         |')\n",
    "print('|         |         |')\n",
    "print('|         |         |')\n",
    "print('|         |         |')\n",
    "print('+ - - - - + - - - - +')\n",
    "print('|         |         |')\n",
    "print('|         |         |')\n",
    "print('|         |         |')\n",
    "print('|         |         |')\n",
    "print('+ - - - - + - - - - +')"
   ]
  },
  {
   "cell_type": "markdown",
   "metadata": {},
   "source": [
    "2\\. Write a function that draws a similar grid with four rows and four columns."
   ]
  },
  {
   "cell_type": "code",
   "execution_count": 37,
   "metadata": {
    "collapsed": false
   },
   "outputs": [
    {
     "name": "stdout",
     "output_type": "stream",
     "text": [
      "+ - - - - + - - - - + - - - - + - - - - +\n",
      "|         |         |         |         |\n",
      "|         |         |         |         |\n",
      "|         |         |         |         |\n",
      "|         |         |         |         |\n",
      "+ - - - - + - - - - + - - - - + - - - - +\n",
      "|         |         |         |         |\n",
      "|         |         |         |         |\n",
      "|         |         |         |         |\n",
      "|         |         |         |         |\n",
      "+ - - - - + - - - - + - - - - + - - - - +\n",
      "|         |         |         |         |\n",
      "|         |         |         |         |\n",
      "|         |         |         |         |\n",
      "|         |         |         |         |\n",
      "+ - - - - + - - - - + - - - - + - - - - +\n",
      "|         |         |         |         |\n",
      "|         |         |         |         |\n",
      "|         |         |         |         |\n",
      "|         |         |         |         |\n",
      "+ - - - - + - - - - + - - - - + - - - - +\n"
     ]
    }
   ],
   "source": [
    "print('+ - - - - + - - - - + - - - - + - - - - +')\n",
    "print('|         |         |         |         |')\n",
    "print('|         |         |         |         |')\n",
    "print('|         |         |         |         |')\n",
    "print('|         |         |         |         |')\n",
    "print('+ - - - - + - - - - + - - - - + - - - - +')\n",
    "print('|         |         |         |         |')\n",
    "print('|         |         |         |         |')\n",
    "print('|         |         |         |         |')\n",
    "print('|         |         |         |         |')\n",
    "print('+ - - - - + - - - - + - - - - + - - - - +')\n",
    "print('|         |         |         |         |')\n",
    "print('|         |         |         |         |')\n",
    "print('|         |         |         |         |')\n",
    "print('|         |         |         |         |')\n",
    "print('+ - - - - + - - - - + - - - - + - - - - +')\n",
    "print('|         |         |         |         |')\n",
    "print('|         |         |         |         |')\n",
    "print('|         |         |         |         |')\n",
    "print('|         |         |         |         |')\n",
    "print('+ - - - - + - - - - + - - - - + - - - - +')"
   ]
  },
  {
   "cell_type": "markdown",
   "metadata": {},
   "source": [
    "## Chapter 5.1 - 5.7"
   ]
  },
  {
   "cell_type": "markdown",
   "metadata": {},
   "source": [
    "### Exercise 5.2\n",
    "\n",
    "Fermat’s Last Theorem says that there are no positive integers $a$, $b$, and $c$ such that $$a^n + b^n = c^n$$ for any values of $n$ greater than 2.\n",
    "\n",
    "1\\. Write a function named `check_fermat` that takes four parameters – $a$, $b$, $c$ and $n$ – and that checks to see if Fermat’s theorem holds. If n is greater than 2 and it turns out to be true that\n",
    "$a^n + b^n = c^n$, then the program should print: \"Holy smokes, Fermat was wrong!\" Otherwise the program should print: \"No, that doesn’t work.\""
   ]
  },
  {
   "cell_type": "code",
   "execution_count": 38,
   "metadata": {
    "collapsed": true
   },
   "outputs": [],
   "source": [
    "def check_fermat(a, b, c, n):\n",
    "    if (n > 2):\n",
    "        if (a**n + a**n == c**2):\n",
    "            print('Holey smokes, Fermat was wrong!')\n",
    "    else:\n",
    "        print('No, that doesn\\'t work')"
   ]
  },
  {
   "cell_type": "markdown",
   "metadata": {},
   "source": [
    "2\\. Write a function that prompts the user to input values for $a$, $b$, $c$ and $n$, converts them to integers, and uses `check_fermat` to check whether they violate Fermat’s theorem."
   ]
  },
  {
   "cell_type": "code",
   "execution_count": 43,
   "metadata": {
    "collapsed": false
   },
   "outputs": [
    {
     "name": "stdout",
     "output_type": "stream",
     "text": [
      "Please input a value for a: 2\n",
      "Please input a value for b: 3\n",
      "Please input a value for c: 1\n",
      "Please input a value for n: 1\n",
      "No, that doesn't work\n"
     ]
    }
   ],
   "source": [
    "def get_user_input():\n",
    "    a = int(input('Please input a value for a: '))\n",
    "    b = int(input('Please input a value for b: '))\n",
    "    c = int(input('Please input a value for c: '))\n",
    "    n = int(input('Please input a value for n: '))\n",
    "    check_fermat(a,b,c,n)\n",
    "get_user_input()"
   ]
  },
  {
   "cell_type": "markdown",
   "metadata": {},
   "source": [
    "### Exercise 5.3 \n",
    "\n",
    "If you are given three sticks, you may or may not be able to arrange them in a triangle. For example, if one of the sticks is 12 inches long and the other two are one inch long, it is clear that you will not be able to get the short sticks to meet in the middle. For any three lengths, there is a simple test to see if it is possible to form a triangle:\n",
    "> If any of the three lengths is greater than the sum of the other two, then you cannot form a triangle. Otherwise, you can. (If the sum of two lengths equals the third, they form what is called a “degenerate” triangle.)\n",
    "\n",
    "1\\. Write a function named `is_triangle` that takes three integers as arguments, and that prints either \"Yes\" or \"No,\" depending on whether you can or cannot form a triangle from sticks with the given lengths."
   ]
  },
  {
   "cell_type": "code",
   "execution_count": 46,
   "metadata": {
    "collapsed": false
   },
   "outputs": [
    {
     "name": "stdout",
     "output_type": "stream",
     "text": [
      "Yes\n"
     ]
    }
   ],
   "source": [
    "def is_triangle(a,b,c):\n",
    "    if (a+b<=c or a+c<=b or c+b<=a):\n",
    "        print('No')\n",
    "    else:\n",
    "        print('Yes')\n",
    "is_triangle(5,2,5)"
   ]
  },
  {
   "cell_type": "markdown",
   "metadata": {},
   "source": [
    "2\\. Write a function that prompts the user to input three stick lengths, converts them to integers, and uses `is_triangle` to check whether sticks with the given lengths can form a triangle."
   ]
  },
  {
   "cell_type": "code",
   "execution_count": 47,
   "metadata": {
    "collapsed": false
   },
   "outputs": [
    {
     "name": "stdout",
     "output_type": "stream",
     "text": [
      "Enter a length for side a (enter 0 to exit): 4\n",
      "Enter a length for side b (enter 0 to exit): 2\n",
      "Enter a length for side c (enter 0 to exit): 1\n",
      "No\n",
      "Enter a length for side a (enter 0 to exit): 3\n",
      "Enter a length for side b (enter 0 to exit): 4\n",
      "Enter a length for side c (enter 0 to exit): 5\n",
      "Yes\n",
      "Enter a length for side a (enter 0 to exit): 3\n",
      "Enter a length for side b (enter 0 to exit): 4\n",
      "Enter a length for side c (enter 0 to exit): 65\n",
      "No\n",
      "Enter a length for side a (enter 0 to exit): 0\n"
     ]
    }
   ],
   "source": [
    "def repeatedly_check_sticks_from_user():\n",
    "    while True:\n",
    "        a = input('Enter a length for side a (enter 0 to exit): ')\n",
    "        if (a == 0):\n",
    "            break;\n",
    "        b = input('Enter a length for side b (enter 0 to exit): ')\n",
    "        if (b == 0):\n",
    "            break;\n",
    "        c = input('Enter a length for side c (enter 0 to exit): ')\n",
    "        if (c == 0):\n",
    "            break;\n",
    "        is_triangle(a,b,c)\n",
    "repeatedly_check_sticks_from_user()"
   ]
  },
  {
   "cell_type": "markdown",
   "metadata": {},
   "source": [
    "## Quick poll\n",
    "About how long did you spend working on this Reading Journal?\n",
    "\n",
    "1 hour"
   ]
  },
  {
   "cell_type": "markdown",
   "metadata": {},
   "source": []
  },
  {
   "cell_type": "markdown",
   "metadata": {},
   "source": [
    "## Notes for the Instructors\n",
    "\n",
    "Please use the space below to write comments to help us plan the next class session.  For instance, if you want to see us go over an example of a particular type of problem, you can indicate that here.\n",
    "\n",
    "Please remember that the best way to get quick feedback from the instructors as well as your peers, is to use Piazza.  However, consider using this channel if it doesn't make sense to post your note to Piazza."
   ]
  },
  {
   "cell_type": "markdown",
   "metadata": {},
   "source": []
  }
 ],
 "metadata": {
  "kernelspec": {
   "display_name": "Python 2",
   "language": "python",
   "name": "python2"
  },
  "language_info": {
   "codemirror_mode": {
    "name": "ipython",
    "version": 2
   },
   "file_extension": ".py",
   "mimetype": "text/x-python",
   "name": "python",
   "nbconvert_exporter": "python",
   "pygments_lexer": "ipython2",
   "version": "2.7.11"
  }
 },
 "nbformat": 4,
 "nbformat_minor": 0
}
