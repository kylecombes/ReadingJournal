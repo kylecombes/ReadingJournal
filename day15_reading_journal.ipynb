{
 "cells": [
  {
   "cell_type": "markdown",
   "metadata": {},
   "source": [
    "# Day 15 Reading Journal\n",
    "\n",
    "This journal includes several required exercises, but it is meant to encourage active reading more generally.  You should use the journal to take detailed notes, catalog questions, and explore the content from Think Python deeply.\n",
    "\n",
    "Reading: Think Python Appendix B (through B.2)\n",
    "\n",
    "**Due: Thursday, March 23 at 12 noon**\n"
   ]
  },
  {
   "cell_type": "markdown",
   "metadata": {},
   "source": [
    "## [Appendix B](http://www.greenteapress.com/thinkpython2/html/thinkpython2022.html)\n",
    "\n",
    "You only need to read as far as section B.2 (inclusive), but feel free to go further and try more exercises if you are interested."
   ]
  },
  {
   "cell_type": "markdown",
   "metadata": {},
   "source": [
    "Problems making meaningful comparisons between algorithms:\n",
    "\n",
    "* Relative performance different on different computers\n",
    "* Relative performance depends on details (e.g. size, percent sorted) of dataset\n",
    "\n",
    "### Order of growth\n",
    "Can compare performance of algorithms dependent on dataset size by classifiying how their runtime grows with as the dataset grows (e.g. n, n^2).\n",
    "\n",
    "* _Leading term_ is term with highest exponent\n",
    "* Generally, algorithm with smallest leading term is best. Possible exception for small datasets.\n",
    "* **Big-Oh Notation**: all functions with leading term n^x belong to the set O(n^x)\n",
    "\n",
    "| Order of growth | Name                    |\n",
    "|-----------------|-------------------------|\n",
    "| O(1)            | constant                |\n",
    "| O(logb n)       | logarithmic (for any b) |\n",
    "| O(n)            | linear                  |\n",
    "| O(n log_b n)    | linearithmic            |\n",
    "| O(n^2)          | quadratic               |\n",
    "| O(n^3)          | cubic                   |\n",
    "| O(c^n)          | exponential             |\n",
    "\n",
    "### Analysis of basic Python operations\n",
    "\n",
    "* **Arithmetic**: constant time\n",
    "* **Multiplication**: longer than addition/subtraction, still linear (unless very big int)\n",
    "* **Division**: even longer than multiplication, still linear (unless very big int)\n",
    "* **for loop**: linear (unless body is non-linear)\n",
    "* **string & tuple**: most operations linear, except indexing and len, which are constant time\n",
    "* **string concatenation**: linear, runtime depends on length of operands\n",
    "* **string methods**: linear, depend on length of string\n",
    "* **list methods**: most linear, except adding/removing element to/from end of list (constant) and sorting, which is O(n logn)\n",
    "* **dictionary**: most constant time, update() proportional to size of dict passed as param (not dict being updated)\n",
    "\n",
    "### Exercise 2\n",
    "\n",
    "1. A comparison sort sorts a list (or something like it) by comparing members of the list to each other using a single comparator (e.g. less than or equal to, greater than or equal to). The best worst-case growth is O(_n_log_n_), and the best worst-case growth for any sorting algorithm (non-comparison included) is O(n) (or is it O(n*(k/s+d))? I can't tell if that's a coefficient that should just be ignored or something that should be left in).\n",
    "2. Bubble sort is O(n^2), which means that it gets exponentially slower as the dataset size increases. When there are algorithms that have linear O(n) performance, those are (usually) preferable.\n",
    "3. Radix sort has a growth order of O(n) (I think, as I can't seem to find the same answer listed everywhere).\n",
    "4. A sorting algorithm is stable if, when two equally valued items are in the input list, they are still in the same order relative to each other after the sort. I could see this as being useful because it makes the algorithm predictable (which is especially handy when doing unit tests).\n",
    "5. Bogosort is listed on Wikipedia as having a worst-case scenario of takeing forever (literally).\n",
    "6. The _qsort_ function in C can be implemented using any sort algorithm that the library implementer chooses, so stability is dependent on the chosen algorithm. Python's built-in _sort_ and _sorted_ functions use the Timesort algorithm, which is stable.\n",
    "7. I couldn't find the answer to this one."
   ]
  },
  {
   "cell_type": "markdown",
   "metadata": {
    "is_question": true,
    "problem": "Exercise B.1"
   },
   "source": [
    "### Exercise 1  \n",
    "\n",
    "Read the [Wikipedia page on Big-Oh notation](http://en.wikipedia.org/wiki/Big_O_notation) and answer the following questions:\n",
    "\n",
    " 1. What is the order of growth of n<sup>3</sup> + n<sup>2</sup>? What about 1000000 n<sup>3</sup> + n<sup>2</sup>? What about n<sup>3</sup> + 1000000 n<sup>2</sup>?\n",
    " 2. What is the order of growth of (n<sup>2</sup> + n) * (n + 1)? Before you start multiplying, remember that you only need the leading term.\n",
    " 3. If f is in O(g), for some unspecified function g, what can we say about af+b?\n",
    " 4. If f<sub>1</sub> and f<sub>2</sub> are in O(g), what can we say about f<sub>1</sub> + f<sub>2</sub>?\n",
    " 5. If f<sub>1</sub> is in O(g) and f<sub>2</sub> is in O(h), what can we say about f<sub>1</sub> + f<sub>2</sub>?\n",
    " 6. If f<sub>1</sub> is in O(g) and f<sub>2</sub> is O(h), what can we say about f<sub>1</sub> * f<sub>2</sub>? "
   ]
  },
  {
   "cell_type": "markdown",
   "metadata": {
    "collapsed": false,
    "solution": "Exercise B.1"
   },
   "source": [
    "  1. All O(3)\n",
    "  2. O(3)\n",
    "  3. It is also O(g)\n",
    "  4. It's still O(g)\n",
    "  5. If g>h, then it's O(g), otherwise it's O(h)\n",
    "  6. It's still the same as above"
   ]
  },
  {
   "cell_type": "markdown",
   "metadata": {
    "poll_response": true,
    "solution": "Time spent"
   },
   "source": [
    " "
   ]
  },
  {
   "cell_type": "markdown",
   "metadata": {
    "is_question": true,
    "problem": "Feedback"
   },
   "source": [
    "## Reading Journal feedback\n",
    "\n",
    "[Please complete this short survey](https://docs.google.com/forms/d/e/1FAIpQLScQekhUrf6YYjpfQiAAbavLIA-IJklv_PX1BWbGgxj7JPolmw/viewform?c=0&w=1)\n",
    "\n",
    "If you have any comments on this Reading Journal, feel free to leave them in the survey linked above. This could include suggestions to improve the exercises, topics you'd like to see covered in class next time, or other feedback.\n",
    "\n",
    "If you have Python questions or run into problems while completing the reading, you should post them to Piazza instead so you can get a quick response before your journal is submitted."
   ]
  },
  {
   "cell_type": "markdown",
   "metadata": {
    "feedback_response": true,
    "solution": "Feedback"
   },
   "source": [
    " "
   ]
  }
 ],
 "metadata": {
  "kernelspec": {
   "display_name": "Python 3",
   "language": "python",
   "name": "python3"
  },
  "language_info": {
   "codemirror_mode": {
    "name": "ipython",
    "version": 3
   },
   "file_extension": ".py",
   "mimetype": "text/x-python",
   "name": "python",
   "nbconvert_exporter": "python",
   "pygments_lexer": "ipython3",
   "version": "3.5.2"
  }
 },
 "nbformat": 4,
 "nbformat_minor": 0
}
