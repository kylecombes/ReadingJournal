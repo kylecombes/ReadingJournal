{
 "cells": [
  {
   "cell_type": "markdown",
   "metadata": {},
   "source": [
    "# Day 7 Reading Journal\n",
    "\n",
    "This journal includes several required exercises, but it is meant to encourage active reading more generally.  You should use the journal to take detailed notes, catalog questions, and explore the content from Think Python deeply.\n",
    "\n",
    "Reading: Think Python Chapter 11, 12\n",
    "\n",
    "**Due: Monday, February 13 at 12 noon**\n",
    "\n"
   ]
  },
  {
   "cell_type": "markdown",
   "metadata": {},
   "source": [
    "## [Chapter 11](http://www.greenteapress.com/thinkpython/html/thinkpython012.html)\n"
   ]
  },
  {
   "cell_type": "markdown",
   "metadata": {},
   "source": [
    "**Quick check:** In about one sentence using your own words, what is a dictionary?"
   ]
  },
  {
   "cell_type": "markdown",
   "metadata": {},
   "source": [
    "A dictionary maps a key (some object) to a value (another object). It's essentially a list with a non-numeric index, though it's much less efficient than a predictably ordered list."
   ]
  },
  {
   "cell_type": "markdown",
   "metadata": {},
   "source": [
    " "
   ]
  },
  {
   "cell_type": "markdown",
   "metadata": {
    "is_question": true,
    "problem": "Exercise 11.2"
   },
   "source": [
    "### Exercise 11.2  \n",
    "\n",
    "Dictionaries have a method called [`get`](https://docs.python.org/3/library/stdtypes.html#mapping-types-dict) that takes a key and a default value. If the key appears in the dictionary, `get` returns the corresponding value; otherwise it returns the default value. For example:\n",
    "\n",
    "```\n",
    ">>> h = histogram('a')\n",
    ">>> print h\n",
    "{'a': 1}\n",
    ">>> h.get('a', 0)\n",
    "1\n",
    ">>> h.get('b', 0)\n",
    "0\n",
    "```\n",
    "\n",
    "Use `get` to write `histogram` more concisely. You should be able to eliminate the `if` statement. Add unit tests for your histogram implementation."
   ]
  },
  {
   "cell_type": "code",
   "execution_count": null,
   "metadata": {
    "collapsed": false,
    "solution": "Exercise 11.2"
   },
   "outputs": [],
   "source": [
    "def histogram(s):\n",
    "    d = dict()\n",
    "    for c in s:\n",
    "        d[c] += d.get(c,0)\n",
    "        #if c not in d:\n",
    "        #    d[c] = 1\n",
    "        #else:\n",
    "        #    d[c] += 1\n",
    "    return d"
   ]
  },
  {
   "cell_type": "markdown",
   "metadata": {},
   "source": [
    " "
   ]
  },
  {
   "cell_type": "markdown",
   "metadata": {
    "is_question": true,
    "problem": "Exercise 11.4"
   },
   "source": [
    "### Exercise 11.4  \n",
    "\n",
    "Modify `reverse_lookup` so that it builds and returns a list of all keys that map to `v`, or an empty list if there are none. Add unit tests for your implementation."
   ]
  },
  {
   "cell_type": "code",
   "execution_count": 23,
   "metadata": {
    "collapsed": false,
    "solution": "Exercise 11.4"
   },
   "outputs": [],
   "source": [
    "def reverse_lookup(d, v):\n",
    "    \"\"\"\n",
    "    >>> sorted(reverse_lookup({'a':4,'b':5,'c':4,'d':5,'e':10},4))\n",
    "    ['a', 'c']\n",
    "    \"\"\"\n",
    "    res = list()\n",
    "    for k in d:\n",
    "        if d[k] == v:\n",
    "            res.append(k)\n",
    "    return res\n",
    "\n",
    "import doctest\n",
    "doctest.run_docstring_examples(reverse_lookup,globals())"
   ]
  },
  {
   "cell_type": "markdown",
   "metadata": {},
   "source": [
    "If you'd like to learn more about errors and exceptions, you can check out the [Python tutorial](https://docs.python.org/3/tutorial/errors.html) or read ahead to [Appendix A](http://www.greenteapress.com/thinkpython2/html/thinkpython2021.html) of Think Python. If you choose to use doctest for your unit testing, it can also [deal with exceptions](https://docs.python.org/3/library/doctest.html#what-about-exceptions)."
   ]
  },
  {
   "cell_type": "markdown",
   "metadata": {},
   "source": [
    " "
   ]
  },
  {
   "cell_type": "markdown",
   "metadata": {},
   "source": [
    "**Quick check** What type of objects can be used as keys to a dictionary, i.e. what property must they have?"
   ]
  },
  {
   "cell_type": "markdown",
   "metadata": {},
   "source": [
    "Each key in a dictionary must be a unique object (however, multiple keys can reference the same value)."
   ]
  },
  {
   "cell_type": "markdown",
   "metadata": {},
   "source": [
    " "
   ]
  },
  {
   "cell_type": "markdown",
   "metadata": {
    "is_question": true,
    "problem": "Exercise 11.6"
   },
   "source": [
    "### Exercise 11.6 (modified)\n",
    "\n",
    "Create a memoized version of your Levenshtein distance function from Day 7. What kind of performance change do you see?\n",
    "\n",
    "Optional: If you'd like to get some quantitative results, you could check out the [timeit](https://docs.python.org/3/library/timeit.html) module\n",
    "\n",
    "Note: You can also study Fibonacci here if you prefer."
   ]
  },
  {
   "cell_type": "code",
   "execution_count": 22,
   "metadata": {
    "collapsed": false,
    "solution": "Exercise 11.6"
   },
   "outputs": [
    {
     "data": {
      "text/plain": [
       "3"
      ]
     },
     "execution_count": 22,
     "metadata": {},
     "output_type": "execute_result"
    }
   ],
   "source": [
    "import math\n",
    "import doctest\n",
    "\n",
    "def levenshtein_distance(s1, s2):\n",
    "    \"\"\" Computes the Levenshtein distance between two strings.\n",
    "    \n",
    "    Based on the full-matrix implementation found on Wikipedia.\n",
    "    \n",
    "    >>> levenshtein_distance('automatic','automobile')\n",
    "    4\n",
    "    >>> levenshtein_distance('racecar','rccar')\n",
    "    2\n",
    "    \"\"\"\n",
    "    s1_len = len(s1)\n",
    "    s2_len = len(s2)\n",
    "    d = [[0 for j in range(s2_len+1)] for i in range(s1_len+1)] \n",
    "    \n",
    "    for i in range(1,s1_len+1):\n",
    "        d[i][0] = i\n",
    "    \n",
    "    for j in range(1,s2_len+1):\n",
    "        d[0][j] = j\n",
    "    \n",
    "    for j in range(1,s2_len+1):\n",
    "        for i in range(1,s1_len+1):\n",
    "            substitutionCost = 0 if s1[i-1] == s2[j-1] else 1\n",
    "            d[i][j] = min([d[i-1][j] + 1,                   # deletion\n",
    "                           d[i][j-1] + 1,                   # insertion\n",
    "                           d[i-1][j-1] + substitutionCost]) # substitution\n",
    "    return d[-1][-1]\n",
    "\n",
    "doctest.run_docstring_examples(levenshtein_distance,globals())\n",
    "levenshtein_distance('Cardboard','Surfboard')"
   ]
  },
  {
   "cell_type": "markdown",
   "metadata": {},
   "source": [
    " "
   ]
  },
  {
   "cell_type": "markdown",
   "metadata": {},
   "source": [
    "## [Chapter 12](http://www.greenteapress.com/thinkpython2/html/thinkpython2013.html)\n",
    "\n",
    "**Quick check:** In about one sentence using your own words, what is a tuple?"
   ]
  },
  {
   "cell_type": "markdown",
   "metadata": {},
   "source": [
    "A tuple is an immutable list."
   ]
  },
  {
   "cell_type": "markdown",
   "metadata": {},
   "source": [
    " "
   ]
  },
  {
   "cell_type": "markdown",
   "metadata": {
    "is_question": true,
    "problem": "Exercise 12.1"
   },
   "source": [
    "### Chapter 12.4  \n",
    "\n",
    "Many of the built-in functions use variable-length argument tuples. For example, `max` and `min` can take any number of arguments:\n",
    "\n",
    "```\n",
    ">>> max(1,2,3)\n",
    "3\n",
    "```\n",
    "\n",
    "But `sum` does not.\n",
    "\n",
    "```\n",
    ">>> sum(1,2,3)\n",
    "TypeError: sum expected at most 2 arguments, got 3\n",
    "```\n",
    "\n",
    "Write a function called ```sumall``` that takes any number of arguments and returns their sum. \n",
    "\n",
    "Write unit tests for your function. Do I actually need to keep saying this? Let's assume it's always a good idea :)"
   ]
  },
  {
   "cell_type": "code",
   "execution_count": 7,
   "metadata": {
    "collapsed": false,
    "solution": "Exercise 12.1"
   },
   "outputs": [
    {
     "data": {
      "text/plain": [
       "5"
      ]
     },
     "execution_count": 7,
     "metadata": {},
     "output_type": "execute_result"
    }
   ],
   "source": [
    "def sumall(*nums):\n",
    "    sum = 0\n",
    "    for n in nums:\n",
    "        sum += n\n",
    "    return sum\n",
    "\n",
    "sumall(1,2,2)"
   ]
  },
  {
   "cell_type": "markdown",
   "metadata": {},
   "source": [
    "If you're interested in more flexible ways to pass arguments to functions, check out the [Python tutorial](https://docs.python.org/3/tutorial/controlflow.html#more-on-defining-functions). For instance, you can also use keyword arguments, which are collected into a dictionary just like `*` gathers variable numbers of positional arguments into a tuple.\n",
    "\n",
    "This pattern is very common for defining functions with complex optional behaviors in Python, and you will often see definitions like:\n",
    "\n",
    "```\n",
    "def my_func(required_argument1, *arguments, **keywords):\n",
    "    ...\n",
    "```"
   ]
  },
  {
   "cell_type": "markdown",
   "metadata": {},
   "source": [
    " "
   ]
  },
  {
   "cell_type": "markdown",
   "metadata": {
    "is_question": true,
    "problem": "Exercise 12 sort"
   },
   "source": [
    "### Exercise\n",
    "\n",
    "Write a function `sort_by_last_letter` that takes a list of words and returns a new list with the words sorted alphabetically by the _last letter_ in the word. Hint: use the **Decorate, Sort, Undecorate** pattern. Write unit tests for your function."
   ]
  },
  {
   "cell_type": "code",
   "execution_count": 27,
   "metadata": {
    "collapsed": false,
    "solution": "Exercise 12 sort"
   },
   "outputs": [
    {
     "data": {
      "text/plain": [
       "['hella', 'dope', 'car', 'Buddy']"
      ]
     },
     "execution_count": 27,
     "metadata": {},
     "output_type": "execute_result"
    }
   ],
   "source": [
    "def sort_by_last_letter(words):\n",
    "    \"\"\" Sorts a list of words alphabetically according to their last letter.\n",
    "    >>> sort_by_last_letter(['Tim','elephant','an','bring'])\n",
    "    ['bring', 'Tim', 'an', 'elephant']\n",
    "    \"\"\"\n",
    "    return sorted(words,key=lambda w: w[-1])\n",
    "\n",
    "doctest.run_docstring_examples(sort_by_last_letter,globals())\n",
    "sort_by_last_letter(['hella','Buddy','car','dope'])"
   ]
  },
  {
   "cell_type": "markdown",
   "metadata": {},
   "source": [
    " "
   ]
  },
  {
   "cell_type": "markdown",
   "metadata": {},
   "source": [
    "**Quick check** Give an example of when you might use each sequence type:\n",
    "\n",
    "- tuple\n",
    "\n",
    "- list\n",
    "\n",
    "- string"
   ]
  },
  {
   "cell_type": "markdown",
   "metadata": {},
   "source": [
    "Tuple: immutable representation of spacial point\n",
    "List: mutable collection to manipulate (add to, reorder, delete from), could be used for keeping track of people in a line\n",
    "String: you want words (to save, display to a user, etc) -- immutable but can be used to create new strings"
   ]
  },
  {
   "cell_type": "markdown",
   "metadata": {},
   "source": [
    " "
   ]
  },
  {
   "cell_type": "markdown",
   "metadata": {
    "is_question": true,
    "problem": "Exercise 12.3"
   },
   "source": [
    "### Exercise 12.1 \n",
    "\n",
    "Write a function called `most_frequent` that takes a string and prints the letters in decreasing order of frequency. Find text samples from several different languages and see how letter frequency varies between languages. Compare your results with the tables at http://en.wikipedia.org/wiki/Letter_frequencies. \n",
    "\n",
    "Allen's solution (try it on your own first): http://greenteapress.com/thinkpython2/code/most_frequent.py. "
   ]
  },
  {
   "cell_type": "code",
   "execution_count": 26,
   "metadata": {
    "collapsed": false,
    "solution": "Exercise 12.3"
   },
   "outputs": [
    {
     "name": "stdout",
     "output_type": "stream",
     "text": [
      "['e'] appeared 545 times\n",
      "['t'] appeared 398 times\n",
      "['a'] appeared 347 times\n",
      "['n'] appeared 325 times\n",
      "['i'] appeared 324 times\n",
      "['r'] appeared 284 times\n",
      "['o'] appeared 282 times\n",
      "['s'] appeared 270 times\n",
      "['h'] appeared 179 times\n",
      "['d'] appeared 164 times\n",
      "['c'] appeared 142 times\n",
      "['l'] appeared 139 times\n",
      "['f'] appeared 134 times\n",
      "['m'] appeared 131 times\n",
      "['u'] appeared 114 times\n",
      "['p'] appeared 90 times\n",
      "['w'] appeared 88 times\n",
      "['g'] appeared 66 times\n",
      "['y'] appeared 63 times\n",
      "['b'] appeared 55 times\n",
      "['v'] appeared 45 times\n",
      "['k'] appeared 27 times\n",
      "['x'] appeared 8 times\n",
      "['j'] appeared 6 times\n",
      "['q'] appeared 4 times\n",
      "['z'] appeared 1 times\n"
     ]
    }
   ],
   "source": [
    "import collections\n",
    "\n",
    "def most_frequent(letters):\n",
    "    # Consider uppercase and lowercase letters to be the same\n",
    "    letters = letters.lower()\n",
    "    \n",
    "    # Preallocate so you don't have to search each time\n",
    "    letter_freq = {'a':0,'b':0,'c':0,'d':0,'e':0,'f':0,'g':0,'h':0,'i':0,'j':0,\n",
    "                   'k':0,'l':0,'m':0,'n':0,'o':0,'p':0,'q':0,'r':0,'s':0,'t':0,\n",
    "                   'u':0,'v':0,'w':0,'x':0,'y':0,'z':0}\n",
    "    \n",
    "    # Count up occurences for each letter\n",
    "    for char in letters:\n",
    "        if char in letter_freq:\n",
    "            letter_freq[char] += 1\n",
    "    \n",
    "    # Invert dictionary\n",
    "    d = {}\n",
    "    for k, v in letter_freq.items():\n",
    "        if v not in d:\n",
    "            d[v] = [k]\n",
    "        else:\n",
    "            d[v].append(k)\n",
    "    \n",
    "    d = collections.OrderedDict(sorted(d.items(), reverse=True))\n",
    "    for k,v in d.items():\n",
    "        print(v,'appeared',k,'times')\n",
    "\n",
    "article = \"Stephen Miller, the White House senior policy adviser, was circumspect on Sunday about Mr. Flynn’s future. Mr. Miller said on NBC’s “Meet the Press” that possibly misleading the vice president on communications with Russia was “a sensitive matter.” Asked if Mr. Trump still had confidence in Mr. Flynn, Mr. Miller responded, “That’s a question for the president.” This account of life inside the council — offices made up of several hundred career civil servants who advise the president on counterterrorism, foreign policy, nuclear deterrence and other issues of war and peace — is based on conversations with more than two dozen current and former council staff members and others throughout the government. All spoke on the condition that they not be quoted by name for fear of reprisals. “It’s so far a very dysfunctional N.S.C.,” Representative Adam B. Schiff of California, the senior Democrat on the House Intelligence Committee, said in a telephone interview. In a telephone conversation on Sunday afternoon, K. T. McFarland, the deputy national security adviser, said that early meetings of the council were brisker, tighter and more decisive than in the past, but she acknowledged that career officials were on edge. “Not only is this a new administration, but it is a different party, and Donald Trump was elected by people who wanted the status quo thrown out,” said Ms. McFarland, a veteran of the Reagan administration who most recently worked for Fox News. “I think it would be a mistake if we didn’t have consternation about the changes — most of the cabinet haven’t even been in government before.” There is always a shakedown period for any new National Security Council, whose staff is drawn from the State Department, the Pentagon and other agencies and is largely housed opposite the White House in the Eisenhower Executive Office Building. President Barack Obama replaced his first national security adviser, Gen. James Jones, a four-star former supreme allied commander in Europe, after concluding that the general was a bad fit for the administration. The first years of President George W. Bush’s council were defined by clashes among experienced bureaucratic infighters — Dick Cheney, Donald Rumsfeld and Colin Powell among them — and by decisions that often took place outside official channels. But what is happening under the Trump White House is different, officials say, and not just because of Mr. Trump’s Twitter foreign policy. (Two officials said that at one recent meeting, there was talk of feeding suggested Twitter posts to the president so the council’s staff would have greater influence.) A number of staff members who did not want to work for Mr. Trump have returned to their regular agencies, leaving a larger-than-usual hole in the experienced bureaucracy. Many of those who remain, who see themselves as apolitical civil servants, have been disturbed by displays of overt partisanship. At an all-hands meeting about two weeks into the new administration, Ms. McFarland told the group it needed to “make America great again,” numerous staff members who were there said. New Trump appointees are carrying coffee mugs with that Trump campaign slogan into meetings with foreign counterparts, one staff member said. Nervous staff members recently met late at night at a bar a few blocks from the White House and talked about purging their social media accounts of any suggestion of anti-Trump sentiments. Mr. Trump’s council staff draws heavily from the military — often people who had ties to Mr. Flynn when he served as a senior military intelligence officer and then as the director of the Defense Intelligence Agency before he was forced out of the job. Many of the first ideas that have been floated have involved military, rather than diplomatic, initiatives. Mr. Trump and Defense Secretary Jim Mattis arriving at the Pentagon last month. Mr. Mattis did not see a number of executive orders before they were issued. Credit Stephen Crowley/The New York Times Last week, Defense Secretary Jim Mattis was exploring whether the Navy could intercept and board an Iranian ship to look for contraband weapons possibly headed to Houthi fighters in Yemen. The potential interdiction seemed in keeping with recent instructions from Mr. Trump, reinforced in meetings with Mr. Mattis and Secretary of State Rex W. Tillerson, to crack down on Iran’s support of terrorism.But the ship was in international waters in the Arabian Sea, according to two officials. Mr. Mattis ultimately decided to set the operation aside, at least for now. White House officials said that was because news of the impending operation leaked, a threat to security that has helped fuel the move for the insider threat program. But others doubt whether there was enough basis in international law, and wondered what would happen if, in the early days of an administration that has already seen one botched military action in Yemen, American forces were suddenly in a firefight with the Iranian Navy.Ms. McFarland often draws on her television experience to make clear to officials that they need to make their points in council meetings quickly, and she signals when to wrap up, several participants said.\"\n",
    "most_frequent(article)"
   ]
  },
  {
   "cell_type": "markdown",
   "metadata": {},
   "source": [
    " "
   ]
  },
  {
   "cell_type": "markdown",
   "metadata": {
    "is_question": true,
    "problem": "Exercise 12.6"
   },
   "source": [
    "### Challenge: Exercise 12.4   (optional)\n",
    "\n",
    "From a [Car Talk Puzzler](http://www.cartalk.com/content/puzzlers):\n",
    "\n",
    "What is the longest English word, that remains a valid English word, as you remove its letters one at a time?\n",
    "\n",
    "Now, letters can be removed from either end, or the middle, but you can’t rearrange any of the letters. Every time you drop a letter, you wind up with another English word. If you do that, you’re eventually going to wind up with one letter and that too is going to be an English word—one that’s found in the dictionary. I want to know what’s the longest word and how many letters does it have?\n",
    "\n",
    "I’m going to give you a little modest example: Sprite. Ok? You start off with sprite, you take a letter off, one from the interior of the word, take the r away, and we’re left with the word spite, then we take the e off the end, we’re left with spit, we take the s off, we’re left with pit, it, and I. \n",
    "\n",
    "Write a program to find all words that can be reduced in this way, and then find the longest one.\n",
    "\n",
    "This exercise is a little more challenging than most, so here are some suggestions:\n",
    "\n",
    "- You might want to write a function that takes a word and computes a list of all the words that can be formed by removing one letter. These are the “children” of the word.\n",
    "- Recursively, a word is reducible if any of its children are reducible. As a base case, you can consider the empty string reducible.\n",
    "- The word list from [Chapter 9.1](http://www.greenteapress.com/thinkpython2/html/thinkpython2010.html) Exercise 1 doesn’t contain single letter words. So you might want to add “I”, “a”, and the empty string.\n",
    "- To improve the performance of your program, you might want to memoize the words that are known to be reducible.\n",
    "\n",
    "Allen's solution: http://greenteapress.com/thinkpython2/code/reducible.py."
   ]
  },
  {
   "cell_type": "code",
   "execution_count": null,
   "metadata": {
    "collapsed": true,
    "solution": "Exercise 12.6"
   },
   "outputs": [],
   "source": []
  },
  {
   "cell_type": "markdown",
   "metadata": {},
   "source": [
    " "
   ]
  },
  {
   "cell_type": "markdown",
   "metadata": {
    "is_question": true,
    "problem": "Feedback"
   },
   "source": [
    "## Reading Journal feedback\n",
    "\n",
    "[Please complete this short survey](https://docs.google.com/forms/d/e/1FAIpQLScQekhUrf6YYjpfQiAAbavLIA-IJklv_PX1BWbGgxj7JPolmw/viewform?c=0&w=1)\n",
    "\n",
    "If you have any comments on this Reading Journal, feel free to leave them in the survey linked above. This could include suggestions to improve the exercises, topics you'd like to see covered in class next time, or other feedback.\n",
    "\n",
    "If you have Python questions or run into problems while completing the reading, you should post them to Piazza instead so you can get a quick response before your journal is submitted."
   ]
  },
  {
   "cell_type": "markdown",
   "metadata": {
    "feedback_response": true,
    "solution": "Feedback"
   },
   "source": [
    " "
   ]
  }
 ],
 "metadata": {
  "kernelspec": {
   "display_name": "Python 3",
   "language": "python",
   "name": "python3"
  },
  "language_info": {
   "codemirror_mode": {
    "name": "ipython",
    "version": 3
   },
   "file_extension": ".py",
   "mimetype": "text/x-python",
   "name": "python",
   "nbconvert_exporter": "python",
   "pygments_lexer": "ipython3",
   "version": "3.5.2"
  }
 },
 "nbformat": 4,
 "nbformat_minor": 0
}
