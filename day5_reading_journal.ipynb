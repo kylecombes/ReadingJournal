{
 "cells": [
  {
   "cell_type": "markdown",
   "metadata": {},
   "source": [
    "# Day 5 Reading Journal\n",
    "\n",
    "This journal includes several required exercises, but it is meant to encourage active reading more generally.  You should use the journal to take detailed notes, catalog questions, and explore the content from Think Python deeply.\n",
    "\n",
    "Reading: Think Python Chapter 4\n",
    "\n",
    "**Due: Thursday, February 2 at 12 noon**\n",
    "\n"
   ]
  },
  {
   "cell_type": "markdown",
   "metadata": {},
   "source": [
    "## [Chapter 4](http://www.greenteapress.com/thinkpython2/html/thinkpython2005.html)\n",
    "\n",
    "In today's reading, you will be exploring the turtle module, which allows you to create images using turtle graphics. The turtle module is included in most Python installations, and you did a quick test with it during the Get Set assignment.\n",
    "\n",
    "### Turtle wrangling\n",
    "\n",
    "You can always run your code as separate Python scripts, but here are a few tips for mixing Turtle with Jupyter notebook:\n",
    "\n",
    " - Turtle will appear in a new GUI window, rather than inline in the notebook like typical results do\n",
    " - You will not be able to close the Turtle window unless you run `turtle.mainloop()` as the last line of your code."
   ]
  },
  {
   "cell_type": "markdown",
   "metadata": {},
   "source": [
    "### Get started\n",
    "\n",
    "Run the code in the cell below and make sure everything works. You should see brave Bob spring into the world and run forward. You can close the window when you're done by clicking on the 'X'. If this simple test doesn't work, check your Python3 install (especially if you get an `ImportError`) and ask for help."
   ]
  },
  {
   "cell_type": "code",
   "execution_count": 2,
   "metadata": {
    "collapsed": false
   },
   "outputs": [],
   "source": [
    "import turtle\n",
    "\n",
    "# Create the world, and a turtle to put in it\n",
    "bob = turtle.Turtle()\n",
    "\n",
    "# Get moving, turtle!\n",
    "bob.fd(100)\n",
    "\n",
    "# Wait for the user to close the window\n",
    "#turtle.mainloop()"
   ]
  },
  {
   "cell_type": "markdown",
   "metadata": {
    "is_question": true,
    "problem": "Section 4.3"
   },
   "source": [
    "### Chapter 4.3\n",
    "\n",
    "Work through exercises 1-5 in Chapter 4.3, creating the `square`, `polygon`, `circle`, and `arc` functions. You can reference Allen's solutions, but please try the problems on your own first."
   ]
  },
  {
   "cell_type": "code",
   "execution_count": 1,
   "metadata": {
    "collapsed": false,
    "solution": "Section 4.3"
   },
   "outputs": [],
   "source": [
    "# Comment out import and creation of bob if running after previous cell\n",
    "import turtle\n",
    "import math\n",
    "bob = turtle.Turtle()\n",
    "\n",
    "def square(t, length):\n",
    "    \"\"\" Draw a square using the given Turtle.\n",
    "\n",
    "        t: a Turtle to draw with\n",
    "        length: the length of the side of the square in pixels\n",
    "    \"\"\"\n",
    "    for n in range(0,4):\n",
    "        t.fd(length)\n",
    "        t.lt(90)\n",
    "\n",
    "def polygon(t, length, n):\n",
    "    \"\"\" Draw a regular polygon using the given Turtle.\n",
    "\n",
    "        t: a Turtle to draw with\n",
    "        length: the length of each side of the polygon in pixels\n",
    "        n: the number of sides for the polygon\n",
    "    \"\"\"\n",
    "    if n < 3:\n",
    "        print('Error: Cannot draw a polygon with fewer than 3 sides.')\n",
    "        return\n",
    "\n",
    "    # Calculate the exterior angles of the polygon\n",
    "    theta = 360/n\n",
    "\n",
    "    for i in range(0,n):\n",
    "        t.fd(length)\n",
    "        t.lt(theta)\n",
    "\n",
    "def circle(t, r):\n",
    "    \"\"\" Draw a circle using the given Turtle.\n",
    "        \n",
    "        t: a Turtle to draw with\n",
    "        r: the radius of the circle\n",
    "    \"\"\"\n",
    "    seg_len = math.pi*r/180\n",
    "    polygon(t,seg_len,360)\n",
    "\n",
    "def arc(t, r, angle):\n",
    "    \"\"\" Draw an arc using the given Turtle\n",
    "        \n",
    "        t: a Turtle to draw with\n",
    "        r: the radius of the circle\n",
    "        angle: the central angle of the arc (in degrees)\n",
    "    \"\"\"\n",
    "    seg_len = math.pi*r/180\n",
    "\n",
    "    for i in range(0,angle):\n",
    "        t.fd(seg_len)\n",
    "        t.lt(1)\n",
    "\n",
    "arc(bob,300,90)\n",
    "turtle.mainloop()"
   ]
  },
  {
   "cell_type": "markdown",
   "metadata": {
    "is_question": true,
    "problem": "More fun"
   },
   "source": [
    "### Chapter 4.12\n",
    "#### More fun with Turtles!\n",
    "Complete at least one of Exercise 2, 3, 4, or 5. If you come up with some cool drawings you'd like to share with the rest of the class, let us know!"
   ]
  },
  {
   "cell_type": "code",
   "execution_count": null,
   "metadata": {
    "collapsed": true,
    "solution": "More fun"
   },
   "outputs": [],
   "source": [
    "See letters.py for partial implementation of new alphabet (it took me at least\n",
    "half an hour to implement 3 letters, so I decided to stop once I had proof of concept)"
   ]
  },
  {
   "cell_type": "markdown",
   "metadata": {},
   "source": [
    "## Reading Journal feedback\n",
    "\n",
    "[Please complete this short survey](https://docs.google.com/forms/d/e/1FAIpQLScQekhUrf6YYjpfQiAAbavLIA-IJklv_PX1BWbGgxj7JPolmw/viewform?c=0&w=1)\n",
    "\n",
    "If you have any comments on this Reading Journal, feel free to leave them in the survey linked above. This could include suggestions to improve the exercises, topics you'd like to see covered in class next time, or other feedback.\n",
    "\n",
    "If you have Python questions or run into problems while completing the reading, you should post them to Piazza instead so you can get a quick response before your journal is submitted."
   ]
  },
  {
   "cell_type": "markdown",
   "metadata": {},
   "source": [
    " "
   ]
  }
 ],
 "metadata": {
  "kernelspec": {
   "display_name": "Python 3",
   "language": "python",
   "name": "python3"
  },
  "language_info": {
   "codemirror_mode": {
    "name": "ipython",
    "version": 3
   },
   "file_extension": ".py",
   "mimetype": "text/x-python",
   "name": "python",
   "nbconvert_exporter": "python",
   "pygments_lexer": "ipython3",
   "version": "3.5.2"
  }
 },
 "nbformat": 4,
 "nbformat_minor": 0
}
